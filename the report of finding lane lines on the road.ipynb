{
 "cells": [
  {
   "cell_type": "code",
   "execution_count": null,
   "metadata": {
    "collapsed": true
   },
   "outputs": [],
   "source": []
  },
  {
   "cell_type": "markdown",
   "metadata": {},
   "source": [
    "# **Finding Lane Lines on the Road** \n",
    "\n",
    "---\n",
    "\n",
    "**Finding Lane Lines on the Road**\n",
    "\n",
    "The goals / steps of this project are the following:\n",
    "* Make a pipeline that finds lane lines on the road\n",
    "* Reflect on your work in a written report\n",
    "\n",
    "\n",
    "[//]: # (Image References)\n",
    "\n",
    "[image1]: ./test_images_output/gray_solidYellowCurve2.jpg \"Grayscale\"\n",
    "[image2]: ./test_images_output/canny_solidYellowCurve2.jpg \"Canny\"\n",
    "[image3]: ./test_images_output/mask_solidYellowCurve2.jpg \"mask\"\n",
    "[image4]: ./test_images_output/hough_solidYellowCurve2.jpg \"hough\"\n",
    "[image5]: ./test_images_output/weighted_solidYellowCurve2.jpg \"wighted\"\n",
    "[image6]: ./test_images_output/guass_solidYellowCurve2.jpg \"guass\"\n",
    "[image7]: ./test_images_output/hough_raw_solidYellowCurve2.jpg \"hough_raw\"\n",
    "\n",
    "---\n",
    "\n",
    "### Reflection\n",
    "\n",
    "### 1. Describe your pipeline. As part of the description, explain how you modified the draw_lines() function.\n",
    "\n",
    "My pipeline consisted of 5 steps.\n",
    "-- Convert the images to grayscale. such as: ![alt text][image1]\n",
    "\n",
    "-- Filter the guassis white noise by gaussian_blur. ![alt text][image6]\n",
    "\n",
    "-- Detect the edge of image by canny. And Select the interest region. ![alt text][image2]![alt text][image3]\n",
    "\n",
    "-- Extract the lines from canny_image by hough_lines using the function of draw_lines. ![alt text][image7]\n",
    "\n",
    "-- Extract the lane lines from lines using the function of improve_draw_lines. \n",
    "\n",
    "--- there are many lines from the process of houghLineP,I should extract the two line as the lane line. Because of \n",
    "the rule that car running in the midddle of two lane lines, It is notice that separating line segments by their  slope ((y2-y1)/(x2-x1)) to decide which segments are part of the left line vs. the right line.  \n",
    "\n",
    "![alt text][image4]\n",
    "\n",
    "The raw road image with extracted lane lines drawn on it. ![alt text][image5]\n",
    "\n",
    "\n",
    "### 2. Identify potential shortcomings with your current pipeline\n",
    "\n",
    "To some extent the process may be not robust by the calculation of average gradient. the two lane lines may cross  at front against the real road in the video.\n",
    "\n",
    "Another shortcoming could be the light effects.\n",
    "\n",
    "\n",
    "### 3. Suggest possible improvements to your pipeline\n",
    "\n",
    "A possible improvement would be to try to get the best params for the process of houghLineP \n",
    "\n",
    "Another potential improvement could be to change the process of image filter to extend the robustness of the light effects.\n",
    "\n"
   ]
  }
 ],
 "metadata": {
  "kernelspec": {
   "display_name": "Python 3",
   "language": "python",
   "name": "python3"
  },
  "language_info": {
   "codemirror_mode": {
    "name": "ipython",
    "version": 3
   },
   "file_extension": ".py",
   "mimetype": "text/x-python",
   "name": "python",
   "nbconvert_exporter": "python",
   "pygments_lexer": "ipython3",
   "version": "3.5.2"
  },
  "widgets": {
   "state": {},
   "version": "1.1.2"
  }
 },
 "nbformat": 4,
 "nbformat_minor": 2
}
